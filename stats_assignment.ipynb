{
  "nbformat": 4,
  "nbformat_minor": 0,
  "metadata": {
    "colab": {
      "provenance": []
    },
    "kernelspec": {
      "name": "python3",
      "display_name": "Python 3"
    },
    "language_info": {
      "name": "python"
    }
  },
  "cells": [
    {
      "cell_type": "code",
      "execution_count": 6,
      "metadata": {
        "id": "ffhhh0TPvHiS"
      },
      "outputs": [],
      "source": []
    },
    {
      "cell_type": "markdown",
      "source": [
        "# THEORITICAL QUESTIONS"
      ],
      "metadata": {
        "id": "F8wFV5mxEvHv"
      }
    },
    {
      "cell_type": "markdown",
      "source": [
        "# 1. what is statistcis and why is it important?\n",
        "\n",
        "Statistics is a mathametical science which can use to interpret the data ,use to analyse it and give some valueable output which help us in our bussiness and to also to know the stats\n",
        "\n",
        "# what are the two main type of statistics??\n",
        "\n",
        "The 2 main type of statistics are discriptive statistics and inferential statistics\n",
        "\n",
        "#3. What is descriptive statistics?\n",
        "\n",
        "In descriptive statistics, when we want exact statistics we use it . it use to describe or summarize the complete data\n",
        "\n",
        "#4. What is inferential statistics?\n",
        "\n",
        "Inferential statistics is use for calculating the statistics from a sample of large data , it is use for the prediction or for generaising stats from a sample of population\n",
        "\n",
        "#5. what is sampling in statistics ?\n",
        "\n",
        "It is a process of selecting a small group or individual from the large group to draw a conclusion\n",
        "\n",
        "#6. what are diffrent type of sampling ?\n",
        "\n",
        "there are mainly 4 type of sampling\n",
        "*random sampling - in which selection held in random way\n",
        "*stratified sampling - in this first we make grp on basis of some critaria and from them we have radom draw\n",
        "*systmatic sampling - in this selection is held in symatric way\n",
        "*cluster sampling - in this first we create a grp and then randomly grp is selected and all the member of grp will be the part of sample\n",
        "\n",
        "#7.What is the difference between random and non-random sampling?\n",
        "\n",
        "in random sampling the selection is held on the random basis while in non random sampling the selection process apply some conditions\n",
        "\n",
        "#8. Define and give ex of qaulitative and quantitative data\n",
        "\n",
        "In qualitative data main focus is on qualiity they do not qualtiify means we do not do mathametical cal on them directly . like gender ,color,ranks\n",
        "while in quantitative data we can do matamatical cal on them they have contineous and descrete data set  like as height of student in class\n",
        "\n",
        "#9. What are the different types of data in statistics?\n",
        "\n",
        "there r 2 type of data qualitative and qauntitative which are further devided in nominal-ordinary and contineous-descrete respectively\n",
        "\n",
        "#10.Explain nominal, ordinal, interval, and ratio levels of measurement?\n",
        "\n",
        ": in nominal we can catagories the data but not descreminate like gender, color\n",
        ": in ordinal we can catagories and give a order to data like as rank, good-better-best\n",
        ": in interval we can catagories, give order,and measure as well the data , but it but not true zero data like as temp\n",
        ": in ratio we can do all thing including it has zero value too, like as score of criceter\n",
        "\n",
        "#11. What is the measure of central tendency?\n",
        "\n",
        "it is a calculation revolve around the center of the data which are calculate in following manner\n",
        "in mean, median andd mode\n",
        "\n",
        "#12. what is mean median  mode?\n",
        "\n",
        "mean is the avarage of data, medican is the center most value aand mode is the more frequent one in the the data set\n",
        "\n",
        "#13. what is significance of measure of centrl tendency ?\n",
        "\n",
        "it can give the summary of data ,useas a comparision tool\n",
        "\n",
        "#14.What is variance, and how is it calculated?\n",
        "\n",
        "it could be any number it tell about how the data is spread variance is a avarage of sqaure firrence from mean . for cal find the mean and then find deffrence of mean with each term agter that sq the each value and for population var devide it by number of term and for sample var devide it by n-1\n",
        "\n",
        "# what is std deviation and why it is imp ?\n",
        "\n",
        "Std deviation is the square root of variance it give significant figure that we use to analyse the data where it lies . it give the relationship of feature with itself\n",
        "\n",
        "#16. define and explian range  in stats?\n",
        "\n",
        "range is a term define in measuremnt of dispersion ,it is  the diffrence btw the max and min value of data , it is highly affected by outliers\n",
        "\n",
        "#17. what is diff btw variance and std deviation ?\n",
        "\n",
        "varianc is sq of originl unit whereas std dev.. is same as original unit ,variance is less intutive due to sq unit whereas std dev.. is easier to interput in real world term\n",
        "\n",
        "#18. What is skewness in a dataset?\n",
        "\n",
        "skewness tell us about the symmetry of the data wheather data is inclied toward\n",
        "\n",
        "#19. What does it mean if a dataset is positively or negatively skewed?\n",
        "\n",
        "if dataset is +ve skewed that mean there is some greater value in the data set which inc th mean of the data whereas if -ve skewed it mean there is some very small value which decrrsse it mean\n",
        "\n",
        "#20.Define and explain kurtosis?\n",
        " i it measure tailness or peakness of data distribution comparision to a normal distribution\n",
        "\n",
        "#21. What is the purpose of covariance?\n",
        "\n",
        "it can give the relationship of feature with respect to another feature , it is also define as a ratio of summation of diff of each with its mean multiplied with diff of mean with data by n-1\n",
        "\n",
        "#22. What does correlation measure in statistics?\n",
        "\n",
        "it is a dimentionless quantity so it is easy to interpret and analyse the data and to sqeeze the range of data\n",
        "\n",
        "#23.  What is the difference between covariance and correlation?\n",
        " covariance is demsional quantity whereas correlation is dimentionless quantity cov range of cov is widly spread where as in corellation it i btw -1 to 1\n",
        "\n",
        "#24.What are some real-world applications of statistics?\n",
        "\n",
        "student performance based on there mark , sales analysis which product is giving more revenue in perticular season"
      ],
      "metadata": {
        "id": "WGp8YjoAvNzX"
      }
    },
    {
      "cell_type": "markdown",
      "source": [
        "#PRACTICAL QUESTIONS"
      ],
      "metadata": {
        "id": "0dVchzWdEz1j"
      }
    },
    {
      "cell_type": "code",
      "source": [
        "#/5 How do you calculate the mean, median, and mode of a dataset\n",
        "# for mean and median we directly use numpy library whereas for mode we use statistics and spicy.stats libarary\n",
        "import numpy as np\n",
        "import statistics\n",
        "data=[2,3,4,5,8,9,12,40,41,15]\n",
        "print(np.mean(data))\n",
        "print(np.median(data))\n",
        "print(statistics.mode(data))\n",
        "np.var(data)"
      ],
      "metadata": {
        "colab": {
          "base_uri": "https://localhost:8080/"
        },
        "id": "Oa-9KygLvTsO",
        "outputId": "fcc5fa77-3855-4e16-9d14-9942a819ab25"
      },
      "execution_count": 7,
      "outputs": [
        {
          "output_type": "stream",
          "name": "stdout",
          "text": [
            "13.9\n",
            "8.5\n",
            "2\n"
          ]
        },
        {
          "output_type": "execute_result",
          "data": {
            "text/plain": [
              "np.float64(191.69000000000003)"
            ]
          },
          "metadata": {},
          "execution_count": 7
        }
      ]
    },
    {
      "cell_type": "code",
      "source": [
        "#2 Write a Python program to compute the variance and standard deviation of a dataset5\n",
        "np.var(data)\n",
        "def vari(a):\n",
        "  mean=np.mean(a)\n",
        "  sq_diff=(a-mean)**2\n",
        "  varie=np.mean(sq_diff)\n",
        "  return varie\n",
        "vari(data)"
      ],
      "metadata": {
        "colab": {
          "base_uri": "https://localhost:8080/"
        },
        "id": "EfV7VAOAF9V3",
        "outputId": "3d555a29-3c8b-41d1-ee05-e0c48920d4d6"
      },
      "execution_count": 8,
      "outputs": [
        {
          "output_type": "execute_result",
          "data": {
            "text/plain": [
              "np.float64(191.69000000000003)"
            ]
          },
          "metadata": {},
          "execution_count": 8
        }
      ]
    },
    {
      "cell_type": "code",
      "source": [
        "#3. Create a dataset and classify it into nominal, ordinal, interval, and ratio types?\n",
        "\n",
        "import pandas as pd\n",
        "\n",
        "# Step 1: Create the dataset\n",
        "data = {\n",
        "    'Student_ID': [101, 102, 103, 104],\n",
        "    'Name': ['Alice', 'Bob', 'Clara', 'David'],\n",
        "    'Gender': ['Female', 'Male', 'Female', 'Male'],\n",
        "    'Grade_Level': ['A', 'B', 'C', 'A'],\n",
        "    'Exam_Score': [85, 75, 92, 66],\n",
        "    'Temperature_C': [36.5, 37.0, 36.8, 36.4],\n",
        "    'Height_cm': [160, 172, 155, 180]\n",
        "}\n",
        "\n",
        "df = pd.DataFrame(data)\n",
        "print(\"Dataset:\\n\", df)\n",
        "# Step 2: Data type classification\n",
        "data_types = {\n",
        "    'Student_ID': 'Nominal',\n",
        "    'Name': 'Nominal',\n",
        "    'Gender': 'Nominal',\n",
        "    'Grade_Level': 'Ordinal',\n",
        "    'Exam_Score': 'Ratio',\n",
        "    'Temperature_C': 'Interval',\n",
        "    'Height_cm': 'Ratio'\n",
        "}\n",
        "\n",
        "print(\"\\nClassification of Data Types:\")\n",
        "for col, dtype in data_types.items():\n",
        "    print(f\"{col}: {dtype}\")\n",
        "\n"
      ],
      "metadata": {
        "colab": {
          "base_uri": "https://localhost:8080/"
        },
        "id": "3km-x0a4IPc8",
        "outputId": "668d13dd-eb6b-4008-82be-976af1c1c967"
      },
      "execution_count": 9,
      "outputs": [
        {
          "output_type": "stream",
          "name": "stdout",
          "text": [
            "Dataset:\n",
            "    Student_ID   Name  Gender Grade_Level  Exam_Score  Temperature_C  Height_cm\n",
            "0         101  Alice  Female           A          85           36.5        160\n",
            "1         102    Bob    Male           B          75           37.0        172\n",
            "2         103  Clara  Female           C          92           36.8        155\n",
            "3         104  David    Male           A          66           36.4        180\n",
            "\n",
            "Classification of Data Types:\n",
            "Student_ID: Nominal\n",
            "Name: Nominal\n",
            "Gender: Nominal\n",
            "Grade_Level: Ordinal\n",
            "Exam_Score: Ratio\n",
            "Temperature_C: Interval\n",
            "Height_cm: Ratio\n"
          ]
        }
      ]
    },
    {
      "cell_type": "code",
      "source": [
        "#4. Implement sampling techniques like random sampling and stratified sampling?\n",
        "a=np.random.randint(0,10)\n",
        "a\n"
      ],
      "metadata": {
        "colab": {
          "base_uri": "https://localhost:8080/"
        },
        "id": "P9AIFXsdJxHw",
        "outputId": "3ac21f68-07cc-4e57-ade5-5639e320f1c8"
      },
      "execution_count": 10,
      "outputs": [
        {
          "output_type": "execute_result",
          "data": {
            "text/plain": [
              "7"
            ]
          },
          "metadata": {},
          "execution_count": 10
        }
      ]
    },
    {
      "cell_type": "code",
      "source": [
        "#5.Write a Python function to calculate the range of a dataset?\n",
        "def ranges(datset):\n",
        "  if len(datset)==0:\n",
        "    return 'dataset is entry'\n",
        "  return max(datset)-min(datset)\n",
        "a=[10,20,40,50,25,35]\n",
        "ranges(a)\n"
      ],
      "metadata": {
        "colab": {
          "base_uri": "https://localhost:8080/"
        },
        "id": "_vL-G8_LMTjC",
        "outputId": "18bf64b1-0c24-4cfa-86c5-8af87abfbd7a"
      },
      "execution_count": 11,
      "outputs": [
        {
          "output_type": "execute_result",
          "data": {
            "text/plain": [
              "40"
            ]
          },
          "metadata": {},
          "execution_count": 11
        }
      ]
    },
    {
      "cell_type": "code",
      "source": [
        "#6. Create a dataset and plot its histogram to visualize skewness5\n",
        "import matplotlib.pyplot as plt\n",
        "from scipy.stats import skew\n",
        "data=np.random.exponential(scale=2,size=100)\n",
        "data\n",
        "plt.hist(data)\n",
        "print(skew(data))"
      ],
      "metadata": {
        "colab": {
          "base_uri": "https://localhost:8080/",
          "height": 449
        },
        "id": "urRklkSEPnNz",
        "outputId": "8c17ee95-46cf-4214-d4e8-53f4f69c1e31"
      },
      "execution_count": 12,
      "outputs": [
        {
          "output_type": "stream",
          "name": "stdout",
          "text": [
            "1.7393809994272411\n"
          ]
        },
        {
          "output_type": "display_data",
          "data": {
            "text/plain": [
              "<Figure size 640x480 with 1 Axes>"
            ],
            "image/png": "[encoded data removed]"
          },
          "metadata": {}
        }
      ]
    },
    {
      "cell_type": "code",
      "source": [
        "#7 Calculate skewness and kurtosis of a dataset using Python libraries\n",
        "import seaborn as sns\n",
        "a=sns.load_dataset('titanic')\n",
        "df=pd.DataFrame(a)\n",
        "b=a['survived']\n",
        "skew(b)"
      ],
      "metadata": {
        "colab": {
          "base_uri": "https://localhost:8080/"
        },
        "id": "o-aMVUHPVe8r",
        "outputId": "ea138827-080d-4347-c82d-ff9a3f0cf95d"
      },
      "execution_count": 20,
      "outputs": [
        {
          "output_type": "execute_result",
          "data": {
            "text/plain": [
              "np.float64(0.4777174662568536)"
            ]
          },
          "metadata": {},
          "execution_count": 20
        }
      ]
    },
    {
      "cell_type": "code",
      "source": [
        "#8 Generate a dataset and demonstrate positive and negative skewness\n",
        "print('for +ve skewness: ',skew(b))\n",
        "Ages=[ 45, 52, 59, 60, 61, 62, 63, 64, 65, 66 ]\n",
        "Ages2=[15,17,16,25,48,19,10,27,19,20]\n",
        "c=skew(Ages)\n",
        "c"
      ],
      "metadata": {
        "colab": {
          "base_uri": "https://localhost:8080/"
        },
        "id": "4KOUKwJyWQIB",
        "outputId": "ce65f537-478d-4849-c7f9-dc6603effd93"
      },
      "execution_count": 37,
      "outputs": [
        {
          "output_type": "stream",
          "name": "stdout",
          "text": [
            "for +ve skewness:  0.4777174662568536\n"
          ]
        },
        {
          "output_type": "execute_result",
          "data": {
            "text/plain": [
              "np.float64(-1.3248430877965935)"
            ]
          },
          "metadata": {},
          "execution_count": 37
        }
      ]
    },
    {
      "cell_type": "code",
      "source": [
        "#9 Write a Python script to calculate covariance between two datasets?\n",
        "np.cov(Ages)"
      ],
      "metadata": {
        "colab": {
          "base_uri": "https://localhost:8080/"
        },
        "id": "1SxbY6Ld12_V",
        "outputId": "d061ed9d-9a8c-435e-ea9b-361d5c97c291"
      },
      "execution_count": 23,
      "outputs": [
        {
          "output_type": "execute_result",
          "data": {
            "text/plain": [
              "array(42.23333333)"
            ]
          },
          "metadata": {},
          "execution_count": 23
        }
      ]
    },
    {
      "cell_type": "code",
      "source": [
        "#10 Write a Python script to calculate the correlation coefficient between two datasets?\n",
        "import statistics\n",
        "statistics.correlation(Ages,Ages2)"
      ],
      "metadata": {
        "colab": {
          "base_uri": "https://localhost:8080/"
        },
        "id": "RyX7Xhd62QGo",
        "outputId": "2e6aee51-1830-41ad-d207-5df91c3a2a29"
      },
      "execution_count": 29,
      "outputs": [
        {
          "output_type": "execute_result",
          "data": {
            "text/plain": [
              "0.2072929424439344"
            ]
          },
          "metadata": {},
          "execution_count": 29
        }
      ]
    },
    {
      "cell_type": "code",
      "source": [
        "#11 Create a scatter plot to visualize the relationship between two variables?\n",
        "Ages=[ 45, 52, 59, 60, 61, 62, 63, 64, 65, 66 ]\n",
        "Ages2=[15,17,16,25,48,19,10,27,19,20]\n",
        "dataa = pd.DataFrame({\n",
        "    'Age': Ages,\n",
        "    'age2': Ages2})\n",
        "sns.scatterplot(x='Age',y='age2',data=dataa)"
      ],
      "metadata": {
        "colab": {
          "base_uri": "https://localhost:8080/",
          "height": 466
        },
        "id": "virpQ8Ct3ODy",
        "outputId": "4cb5bff3-e97c-453e-da59-4b66c55a116b"
      },
      "execution_count": 41,
      "outputs": [
        {
          "output_type": "execute_result",
          "data": {
            "text/plain": [
              "<Axes: xlabel='Age', ylabel='age2'>"
            ]
          },
          "metadata": {},
          "execution_count": 41
        },
        {
          "output_type": "display_data",
          "data": {
            "text/plain": [
              "<Figure size 640x480 with 1 Axes>"
            ],
            "image/png": "[encoded data removed]"
          },
          "metadata": {}
        }
      ]
    },
    {
      "cell_type": "code",
      "source": [
        "#12. Implement and compare simple random sampling and systematic sampling?\n",
        "\n"
      ],
      "metadata": {
        "id": "BW5TIMxC5oy6"
      },
      "execution_count": null,
      "outputs": []
    },
    {
      "cell_type": "code",
      "source": [
        "#13./75 Calculate the mean, median, and mode of data5\n",
        "\n",
        "frequencies = [5,5, 8, 15, 16, 6]\n",
        "display(np.mean(frequencies))\n",
        "display(np.median(frequencies))\n",
        "display(statistics.mode(frequencies))"
      ],
      "metadata": {
        "colab": {
          "base_uri": "https://localhost:8080/",
          "height": 69
        },
        "id": "PY90jKT-6HHt",
        "outputId": "6b71f360-38a6-40cc-db5e-fd975eaacdd8"
      },
      "execution_count": 44,
      "outputs": [
        {
          "output_type": "display_data",
          "data": {
            "text/plain": [
              "np.float64(9.166666666666666)"
            ]
          },
          "metadata": {}
        },
        {
          "output_type": "display_data",
          "data": {
            "text/plain": [
              "np.float64(7.0)"
            ]
          },
          "metadata": {}
        },
        {
          "output_type": "display_data",
          "data": {
            "text/plain": [
              "5"
            ]
          },
          "metadata": {}
        }
      ]
    },
    {
      "cell_type": "code",
      "source": [
        "#14.Simulate data using Python and calculate its central tendency and dispersion.\n",
        "\n",
        "print('central tendency')\n",
        "frequencies = [5,5, 8, 15, 16, 6]\n",
        "display('mean',np.mean(frequencies))\n",
        "display('median',np.median(frequencies))\n",
        "display('mode',statistics.mode(frequencies))\n",
        "\n",
        "print('disperssion ')\n",
        "print('range')\n",
        "print(max(frequencies)-min(frequencies))\n",
        "display('interquatile',np.percentile(frequencies,[0,25,50,75,100]))\n",
        "print('variance',np.var(frequencies))\n",
        "print('std deviation',np.std(frequencies))"
      ],
      "metadata": {
        "colab": {
          "base_uri": "https://localhost:8080/",
          "height": 264
        },
        "id": "k3SZriHM64qM",
        "outputId": "e6139398-ee71-4c3e-e12c-076cd0b31c8c"
      },
      "execution_count": 50,
      "outputs": [
        {
          "output_type": "stream",
          "name": "stdout",
          "text": [
            "central tendency\n"
          ]
        },
        {
          "output_type": "display_data",
          "data": {
            "text/plain": [
              "'mean'"
            ],
            "application/vnd.google.colaboratory.intrinsic+json": {
              "type": "string"
            }
          },
          "metadata": {}
        },
        {
          "output_type": "display_data",
          "data": {
            "text/plain": [
              "np.float64(9.166666666666666)"
            ]
          },
          "metadata": {}
        },
        {
          "output_type": "display_data",
          "data": {
            "text/plain": [
              "'median'"
            ],
            "application/vnd.google.colaboratory.intrinsic+json": {
              "type": "string"
            }
          },
          "metadata": {}
        },
        {
          "output_type": "display_data",
          "data": {
            "text/plain": [
              "np.float64(7.0)"
            ]
          },
          "metadata": {}
        },
        {
          "output_type": "display_data",
          "data": {
            "text/plain": [
              "'mode'"
            ],
            "application/vnd.google.colaboratory.intrinsic+json": {
              "type": "string"
            }
          },
          "metadata": {}
        },
        {
          "output_type": "display_data",
          "data": {
            "text/plain": [
              "5"
            ]
          },
          "metadata": {}
        },
        {
          "output_type": "stream",
          "name": "stdout",
          "text": [
            "disperssion \n",
            "range\n",
            "11\n"
          ]
        },
        {
          "output_type": "display_data",
          "data": {
            "text/plain": [
              "'interquatile'"
            ],
            "application/vnd.google.colaboratory.intrinsic+json": {
              "type": "string"
            }
          },
          "metadata": {}
        },
        {
          "output_type": "display_data",
          "data": {
            "text/plain": [
              "array([ 5.  ,  5.25,  7.  , 13.25, 16.  ])"
            ]
          },
          "metadata": {}
        },
        {
          "output_type": "stream",
          "name": "stdout",
          "text": [
            "variance 21.13888888888889\n",
            "std deviation 4.597704741377907\n"
          ]
        }
      ]
    },
    {
      "cell_type": "code",
      "source": [
        "#15. Use NumPy or pandas to summarize a dataset’s descriptive statistics?\n",
        "a=sns.load_dataset('titanic')\n",
        "df=pd.DataFrame(a)\n",
        "print(a.describe())"
      ],
      "metadata": {
        "colab": {
          "base_uri": "https://localhost:8080/"
        },
        "id": "wCP6QA6Z8tP3",
        "outputId": "24598f12-09be-4732-9d7c-618687da081b"
      },
      "execution_count": 53,
      "outputs": [
        {
          "output_type": "stream",
          "name": "stdout",
          "text": [
            "         survived      pclass         age       sibsp       parch        fare\n",
            "count  891.000000  891.000000  714.000000  891.000000  891.000000  891.000000\n",
            "mean     0.383838    2.308642   29.699118    0.523008    0.381594   32.204208\n",
            "std      0.486592    0.836071   14.526497    1.102743    0.806057   49.693429\n",
            "min      0.000000    1.000000    0.420000    0.000000    0.000000    0.000000\n",
            "25%      0.000000    2.000000   20.125000    0.000000    0.000000    7.910400\n",
            "50%      0.000000    3.000000   28.000000    0.000000    0.000000   14.454200\n",
            "75%      1.000000    3.000000   38.000000    1.000000    0.000000   31.000000\n",
            "max      1.000000    3.000000   80.000000    8.000000    6.000000  512.329200\n"
          ]
        }
      ]
    },
    {
      "cell_type": "code",
      "source": [
        "#16.Plot a boxplot to understand the spread and identify outliers?\n",
        "import matplotlib.pyplot as plt\n",
        "plt.boxplot(Ages2)"
      ],
      "metadata": {
        "colab": {
          "base_uri": "https://localhost:8080/",
          "height": 569
        },
        "id": "vlFsu25z9WRh",
        "outputId": "8b70b0c3-a012-4a23-c188-4f193c0b513e"
      },
      "execution_count": 61,
      "outputs": [
        {
          "output_type": "execute_result",
          "data": {
            "text/plain": [
              "{'whiskers': [<matplotlib.lines.Line2D at 0x7f9cd55a5e50>,\n",
              "  <matplotlib.lines.Line2D at 0x7f9cd55a6a50>],\n",
              " 'caps': [<matplotlib.lines.Line2D at 0x7f9cd55a76d0>,\n",
              "  <matplotlib.lines.Line2D at 0x7f9cd5538350>],\n",
              " 'boxes': [<matplotlib.lines.Line2D at 0x7f9cd55a52d0>],\n",
              " 'medians': [<matplotlib.lines.Line2D at 0x7f9cd5538f50>],\n",
              " 'fliers': [<matplotlib.lines.Line2D at 0x7f9cd5539a90>],\n",
              " 'means': []}"
            ]
          },
          "metadata": {},
          "execution_count": 61
        },
        {
          "output_type": "display_data",
          "data": {
            "text/plain": [
              "<Figure size 640x480 with 1 Axes>"
            ],
            "image/png": "[encoded data removed]"
          },
          "metadata": {}
        }
      ]
    },
    {
      "cell_type": "code",
      "source": [
        "#17. Calculate the interquartile range (IQR) of a dataset\n",
        "np.percentile(frequencies,[0,25,50,75,100])"
      ],
      "metadata": {
        "colab": {
          "base_uri": "https://localhost:8080/"
        },
        "id": "IPdILX4A-eJs",
        "outputId": "9607faa1-0aed-4fe1-91f3-edbb94812e5d"
      },
      "execution_count": 63,
      "outputs": [
        {
          "output_type": "execute_result",
          "data": {
            "text/plain": [
              "array([ 5.  ,  5.25,  7.  , 13.25, 16.  ])"
            ]
          },
          "metadata": {},
          "execution_count": 63
        }
      ]
    },
    {
      "cell_type": "code",
      "source": [
        "#18.Compare two datasets using their standard deviations?\n",
        "aaa=np.std(Ages)\n",
        "bbb=np.std(Ages2)\n",
        "print(aaa)\n",
        "print(bbb)\n",
        "plt.hist(aaa)\n",
        "plt.hist(bbb)\n"
      ],
      "metadata": {
        "colab": {
          "base_uri": "https://localhost:8080/",
          "height": 552
        },
        "id": "g0FPdbFs-uFQ",
        "outputId": "c1a5e013-ed33-4742-86dc-957aefa00c6e"
      },
      "execution_count": 67,
      "outputs": [
        {
          "output_type": "stream",
          "name": "stdout",
          "text": [
            "6.165225056719341\n",
            "9.92169340384997\n"
          ]
        },
        {
          "output_type": "execute_result",
          "data": {
            "text/plain": [
              "(array([0., 0., 0., 0., 0., 1., 0., 0., 0., 0.]),\n",
              " array([ 9.4216934,  9.5216934,  9.6216934,  9.7216934,  9.8216934,\n",
              "         9.9216934, 10.0216934, 10.1216934, 10.2216934, 10.3216934,\n",
              "        10.4216934]),\n",
              " <BarContainer object of 10 artists>)"
            ]
          },
          "metadata": {},
          "execution_count": 67
        },
        {
          "output_type": "display_data",
          "data": {
            "text/plain": [
              "<Figure size 640x480 with 1 Axes>"
            ],
            "image/png": "[encoded data removed]"
          },
          "metadata": {}
        }
      ]
    },
    {
      "cell_type": "code",
      "source": [
        "plt.boxplot([Ages,Ages2])\n",
        "plt.text(1,max(Ages),f\"SD:{aaa:.2f}\")\n",
        "plt.text(2,max(Ages2),f\"SD:{bbb:.2f}\")"
      ],
      "metadata": {
        "colab": {
          "base_uri": "https://localhost:8080/",
          "height": 447
        },
        "id": "BO3uPSXt_pJw",
        "outputId": "d4ea9766-58f2-40ac-ddaa-620157c968b0"
      },
      "execution_count": 74,
      "outputs": [
        {
          "output_type": "execute_result",
          "data": {
            "text/plain": [
              "Text(2, 48, 'SD:9.92')"
            ]
          },
          "metadata": {},
          "execution_count": 74
        },
        {
          "output_type": "display_data",
          "data": {
            "text/plain": [
              "<Figure size 640x480 with 1 Axes>"
            ],
            "image/png": "[encoded data removed]"
          },
          "metadata": {}
        }
      ]
    },
    {
      "cell_type": "code",
      "source": [
        "#22. Generate a dataset and implement both variance and standard deviation computations?\n",
        "print(np.var(frequencies))\n",
        "np.std(frequencies)"
      ],
      "metadata": {
        "colab": {
          "base_uri": "https://localhost:8080/"
        },
        "id": "_qrLDrccBVVC",
        "outputId": "c01ca58f-e8a1-4c90-f831-c0ff64bf1115"
      },
      "execution_count": 77,
      "outputs": [
        {
          "output_type": "stream",
          "name": "stdout",
          "text": [
            "21.13888888888889\n"
          ]
        },
        {
          "output_type": "execute_result",
          "data": {
            "text/plain": [
              "np.float64(4.597704741377907)"
            ]
          },
          "metadata": {},
          "execution_count": 77
        }
      ]
    },
    {
      "cell_type": "code",
      "source": [
        "#23. Visualize skewness and kurtosis using Python libraries like matplotlib or seaborn?\n",
        "sk=skew(frequencies)\n",
        "plt.hist(frequencies)\n",
        "plt.title(f'skewness={sk}')"
      ],
      "metadata": {
        "colab": {
          "base_uri": "https://localhost:8080/",
          "height": 469
        },
        "id": "n3GQqDVBBc0T",
        "outputId": "b659e1e8-8d85-4672-b2b4-b432014eca3f"
      },
      "execution_count": 82,
      "outputs": [
        {
          "output_type": "execute_result",
          "data": {
            "text/plain": [
              "Text(0.5, 1.0, 'skewness=0.5822860102666306')"
            ]
          },
          "metadata": {},
          "execution_count": 82
        },
        {
          "output_type": "display_data",
          "data": {
            "text/plain": [
              "<Figure size 640x480 with 1 Axes>"
            ],
            "image/png": "[encoded data removed]"
          },
          "metadata": {}
        }
      ]
    },
    {
      "cell_type": "code",
      "source": [
        "#24 Implement the Pearson and Spearman correlation coefficients for a dataset?\n",
        "from scipy.stats import pearsonr, spearmanr\n",
        "\n",
        "# Pearson\n",
        "p_corr, _ = pearsonr(Ages, Ages2)\n",
        "\n",
        "# Spearman\n",
        "s_corr, _ = spearmanr(Ages, Ages2)\n",
        "\n",
        "print(f\"\\nPearson Correlation (scipy): {p_corr}\")\n",
        "print(f\"Spearman Correlation (scipy): {s_corr}\")"
      ],
      "metadata": {
        "colab": {
          "base_uri": "https://localhost:8080/"
        },
        "id": "0boJp5CQCqFa",
        "outputId": "81699f0e-10fb-4564-b547-185e0a6c844d"
      },
      "execution_count": 83,
      "outputs": [
        {
          "output_type": "stream",
          "name": "stdout",
          "text": [
            "\n",
            "Pearson Correlation (scipy): 0.20729294244393437\n",
            "Spearman Correlation (scipy): 0.36474332620803873\n"
          ]
        }
      ]
    }
  ]
}